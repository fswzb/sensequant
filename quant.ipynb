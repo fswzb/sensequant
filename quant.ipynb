{
 "cells": [
  {
   "cell_type": "code",
   "execution_count": 3,
   "metadata": {
    "collapsed": false
   },
   "outputs": [],
   "source": [
    "import pandas as pd \n",
    "import numpy as np\n",
    "#from sklearn import linear_model\n",
    "#import seaborn as sns\n",
    "#import matplotlib.pyplot as plt\n",
    "#from sklearn import preprocessing\n",
    "from itertools import groupby\n",
    "import common\n",
    "from os import listdir\n",
    "from os.path import isfile, join"
   ]
  },
  {
   "cell_type": "code",
   "execution_count": 4,
   "metadata": {
    "collapsed": true
   },
   "outputs": [],
   "source": [
    "import asset\n",
    "import backtest"
   ]
  },
  {
   "cell_type": "code",
   "execution_count": null,
   "metadata": {
    "collapsed": true
   },
   "outputs": [],
   "source": [
    "lenRecord = pd.read_csv('record.txt', header=False)\n",
    "end = lenRecord[1]\n",
    "start = np.hstack((0, end[:-1]))\n",
    "df_record = pd.concat([lenRecord, pd.DataFrame({'start': start})], axis=0)"
   ]
  },
  {
   "cell_type": "code",
   "execution_count": 5,
   "metadata": {
    "collapsed": false
   },
   "outputs": [],
   "source": [
    "p_stock_id = '股票交易代码'\n",
    "p_stock_title = '股票名称'\n",
    "p_cash_divid_bt = '税前派现金额（人民币）（元）（1：X）'\n",
    "p_date = '除权日'\n",
    "p_cash_divid_at = '税后派现金额（人民币）（元）（1：X）'\n",
    "p_stock_divid_rat = '送股比例（1：X）'\n",
    "p_increa_trans_rat = '转增比例（1：X）'\n",
    "p_reser_rat = '送转比例（1：X）'\n",
    "p_allot_prc = '配股价格（元）'\n",
    "p_allot_rat = '实际配股比例'"
   ]
  },
  {
   "cell_type": "code",
   "execution_count": 6,
   "metadata": {
    "collapsed": true
   },
   "outputs": [],
   "source": [
    "STOCK_LIST = ['603885']#, '000099', '000004', '000005', '000006', '399300'] "
   ]
  },
  {
   "cell_type": "code",
   "execution_count": 581,
   "metadata": {
    "collapsed": false
   },
   "outputs": [],
   "source": [
    "# read all the tech data of stock 000001\n",
    "def read_tech(path = '/home/lcc/sensequant/kline_5minute/sh/'):\n",
    "    files = [f for f in listdir(path) if isfile(join(path, f))]\n",
    "    df_tech = None\n",
    "    for f in files:\n",
    "\n",
    "        date = f.split('.')[0]\n",
    "        df = pd.read_csv(path+f, dtype={'stock_id': str})\n",
    "        df = df[df['stock_id'].isin(STOCK_LIST)]\n",
    "        df['date'] = date\n",
    "        if df_tech is None:\n",
    "            df_tech = df\n",
    "        else:\n",
    "            df_tech = pd.concat([df_tech, df])\n",
    "    df_tech['date'] = pd.to_datetime(df_tech.date)\n",
    "    return df_tech"
   ]
  },
  {
   "cell_type": "code",
   "execution_count": 476,
   "metadata": {
    "collapsed": false
   },
   "outputs": [],
   "source": [
    "def read_panel(fname='/home/lcc/sensequant/kline_5minute/stock_info'):\n",
    "    df_panel = pd.read_csv(fname)\n",
    "    df_panel = df_panel[(df_panel[p_stock_id].isin(STOCK_LIST))]\n",
    "    df_panel[p_date] = pd.to_datetime(df_panel[p_date])\n",
    "    return df_panel\n"
   ]
  },
  {
   "cell_type": "code",
   "execution_count": 385,
   "metadata": {
    "collapsed": false,
    "scrolled": true
   },
   "outputs": [],
   "source": [
    "# %load common.py\n",
    "import numpy as np\n",
    "import pandas as pd \n",
    "\n",
    "p_exchange_ = '交易所简称'\n",
    "p_stock_id_ = '股票代码'\n",
    "p_date_ = '时间'\n",
    "p_earn_per_share_ = '每股收益(元)'\n",
    "p_bvps_ = '每股净资产(元)'\n",
    "p_roe_ = '净资产收益率(％)'\n",
    "p_net_profit_ = '净利润(万元)'\n",
    "p_npgr_ = '净利润增长率(%)'\n",
    "p_wroe_ = '加权净资产收益率(%)'\n",
    "p_asset_liability_ratio_ = '资产负债比率(%)'\n",
    "p_cash_in_net_profit_ = '净利润现金含量(%)'\n",
    "p_basic_earn_per_share_ = '基本每股收益(元)'\n",
    "p_net_earn_per_share_ = '每股收益-扣除(元)'\n",
    "p_dulute_earn_per_share_ = '每股收益-摊薄(元)'\n",
    "p_capital_reserve_per_share_ = '每股资本公积金(元)'\n",
    "p_udpps_ = '每股未分配利润(元)'\n",
    "p_epcf_ = '每股经营现金流量(元)'\n",
    "p_operating_net_cash_flow_ = '经营活动现金净流量增长率(%)'\n",
    "p_equity_ = '总股本(亿股)'\n",
    "p_limit_equity_ = '限售股份(亿股)'\n",
    "p_a_share_ = '流通A股(亿股)'\n",
    "\n",
    "def scalify(l):\n",
    "    if type(l) != np.ndarray:\n",
    "        return l\n",
    "    elif len(l) > 1:\n",
    "        raise ValueError('Not only one element!')  \n",
    "    else:\n",
    "        return l[0]\n",
    "\n",
    "def lower_bound(df, dateCol, date):\n",
    "    return np.max(df[df[dateCol]<date][dateCol])\n",
    "\n",
    "def select_val_b4_date(df, date, dateCol, valCol):\n",
    "    # default: the column of the date in the df is dateCol\n",
    "    lb = np.max(df[df[dateCol]<=date][dateCol])\n",
    "    return df[df[dateCol]==lb][valCol].values\n",
    "    \n",
    "def record_error_msge(id_, msge, fname='cache/errorLog.txt'):\n",
    "    with open(fname, 'a') as f:\n",
    "        f.write(id_+'\\t'+msge+'\\n')\n",
    "\n",
    "def normalize_dict(dict_):\n",
    "    sum_ = sum(list(dict_.values()))\n",
    "    for k, v in dict_.items():\n",
    "        dict_[k] = v / sum_\n",
    "    return dict_"
   ]
  },
  {
   "cell_type": "code",
   "execution_count": 268,
   "metadata": {
    "collapsed": false,
    "scrolled": true
   },
   "outputs": [],
   "source": [
    "df4test = pd.read_csv('cache.txt')\n",
    "df4test = df4test.drop('index', axis=1)\n",
    "#algorithm = ALGORITHM()\n",
    "#algorithm.run()"
   ]
  },
  {
   "cell_type": "code",
   "execution_count": 393,
   "metadata": {
    "collapsed": false,
    "scrolled": true
   },
   "outputs": [],
   "source": [
    "d = {'a': 1, 'b': 2, 'c': 3, 'd': 4, 'e': 5}"
   ]
  },
  {
   "cell_type": "code",
   "execution_count": 423,
   "metadata": {
    "collapsed": false
   },
   "outputs": [
    {
     "data": {
      "text/plain": [
       "['b', 'e', 'c', 'a', 'd']"
      ]
     },
     "execution_count": 423,
     "metadata": {},
     "output_type": "execute_result"
    }
   ],
   "source": [
    "list(d.keys())"
   ]
  },
  {
   "cell_type": "code",
   "execution_count": 428,
   "metadata": {
    "collapsed": false
   },
   "outputs": [
    {
     "data": {
      "text/plain": [
       "True"
      ]
     },
     "execution_count": 428,
     "metadata": {},
     "output_type": "execute_result"
    }
   ],
   "source": [
    "(np.array([3, 3, 10, 2, 2, 3,4,5]) > 0).all()"
   ]
  },
  {
   "cell_type": "code",
   "execution_count": 22,
   "metadata": {
    "collapsed": false
   },
   "outputs": [],
   "source": [
    "def adjust_price(price, cash_divid_at, reser_rat):\n",
    "    return (price - float(cash_divid_at)) / (1 + float(reser_rat))"
   ]
  },
  {
   "cell_type": "code",
   "execution_count": 478,
   "metadata": {
    "collapsed": false,
    "scrolled": false
   },
   "outputs": [],
   "source": [
    "df_copy = df_tech.copy()\n",
    "df = df_panel[[p_stock_id, p_cash_divid_bt, p_cash_divid_at, p_reser_rat, p_date]]\n",
    "for values in df.itertuples():\n",
    "    stock_id = values[1]\n",
    "    cash_divid_bt = values[2]\n",
    "    cash_divid_at = values[3]\n",
    "    reser_rat = values[4]\n",
    "    #print (reser_rat)\n",
    "    date = values[5]\n",
    "    if cash_divid_bt != '\\\\N':\n",
    "        c = cash_divid_at\n",
    "    elif cash_divid_at != '\\\\N':\n",
    "        c = cash_divid_bt\n",
    "    else:\n",
    "        c = 0\n",
    "    criteria = (df_copy['stock_id'] == stock_id) & (df_copy['date'] < date)\n",
    "    df_copy.loc[criteria, ['high', 'low', 'open', 'close']] = df_copy[criteria][['high', 'low', 'open', 'close']].apply(adjust_price, args=(c, reser_rat,))\n",
    "    \n"
   ]
  },
  {
   "cell_type": "code",
   "execution_count": 479,
   "metadata": {
    "collapsed": false
   },
   "outputs": [],
   "source": [
    "groups = df_copy.groupby(['stock_id', 'date'])\n",
    "col = ['stock_id', 'date', 'high', 'low', 'open', 'close']\n",
    "df_y = pd.DataFrame()\n",
    "for name, group in groups:\n",
    "    if group.high.max() <= 0:\n",
    "        continue\n",
    "    stock_id = name[0]\n",
    "    date = name[1]\n",
    "    high = group.high.max()\n",
    "    low = group[group['low']>0].low.min()\n",
    "    open_ = group[(group['open'].astype(np.float))>0].iloc[0]['open']\n",
    "    close = group.iloc[-1]['close']\n",
    "    row = pd.Series([stock_id, date, high, low, open_, close])\n",
    "    df_y = df_y.append(row, ignore_index=True)\n",
    "df_y.columns = col"
   ]
  },
  {
   "cell_type": "markdown",
   "metadata": {},
   "source": [
    "# Construct the Indicator "
   ]
  },
  {
   "cell_type": "code",
   "execution_count": 44,
   "metadata": {
    "collapsed": true
   },
   "outputs": [],
   "source": [
    "p_exchange_ = '交易所简称'\n",
    "p_stock_id_ = '股票代码'\n",
    "p_date_ = '时间'\n",
    "p_earn_per_share_ = '每股收益(元)'\n",
    "p_bvps_ = '每股净资产(元)'\n",
    "p_roe_ = '净资产收益率(％)'\n",
    "p_net_profit_ = '净利润(万元)'\n",
    "p_npgr_ = '净利润增长率(%)'\n",
    "p_wroe_ = '加权净资产收益率(%)'\n",
    "p_asset_liability_ratio_ = '资产负债比率(%)'\n",
    "p_cash_in_net_profit_ = '净利润现金含量(%)'\n",
    "p_basic_earn_per_share_ = '基本每股收益(元)'\n",
    "p_net_earn_per_share_ = '每股收益-扣除(元)'\n",
    "p_dulute_earn_per_share_ = '每股收益-摊薄(元)'\n",
    "p_capital_reserve_per_share_ = '每股资本公积金(元)'\n",
    "p_udpps_ = '每股未分配利润(元)'\n",
    "p_epcf_ = '每股经营现金流量(元)'\n",
    "p_operating_net_cash_flow_ = '经营活动现金净流量增长率(%)'\n",
    "p_equity_ = '总股本(亿股)'\n",
    "p_limit_equity_ = '限售股份(亿股)'\n",
    "p_a_share_ = '流通A股(亿股)'"
   ]
  },
  {
   "cell_type": "code",
   "execution_count": 1,
   "metadata": {
    "collapsed": true
   },
   "outputs": [],
   "source": [
    "def fast_read_tech(path='/home/lcc/sensequant/kline_5minute/alldata/', id_='000166'):\n",
    "    files = [f for f in listdir(path) if isfile(join(path, f)) and f.split('.')[0] == id_]\n",
    "    df_tech = None\n",
    "    for f in files:\n",
    "        df_tech = pd.read_csv(path+f, dtype={'stock_id': str})\n",
    "        df_tech['date'] = pd.to_datetime(df_tech.date, format='%Y%m%d')\n",
    "        #14000 => 14.000\n",
    "        df_tech[['high', 'low', 'open', 'close']] = df_tech[['high', 'low', 'open', 'close']].apply(lambda x: x/1000)\n",
    "        groups = df_tech.groupby('date')\n",
    "        col = ['stock_id', 'date', 'high', 'low', 'open', 'close']\n",
    "        df_y = pd.DataFrame()\n",
    "        for name, group in groups:\n",
    "            if group.high.max() <= 0:\n",
    "                continue\n",
    "            stock_id = id_\n",
    "            date = name\n",
    "            high = group.high.max()\n",
    "            low = group[group['low']>0].low.min()\n",
    "            open_ = group[(group['open'].astype(np.float))>0].iloc[0]['open']\n",
    "            close = group.iloc[-1]['close']\n",
    "            row = pd.Series([stock_id, date, high, low, open_, close])\n",
    "            df_y = df_y.append(row, ignore_index=True)\n",
    "        df_y.columns = col \n",
    "    if df_tech is None:\n",
    "        return df_tech\n",
    "    else:\n",
    "        return df_y               "
   ]
  },
  {
   "cell_type": "code",
   "execution_count": null,
   "metadata": {
    "collapsed": false
   },
   "outputs": [],
   "source": [
    "df_y = fast_read_tech()"
   ]
  },
  {
   "cell_type": "code",
   "execution_count": 2,
   "metadata": {
    "collapsed": false
   },
   "outputs": [
    {
     "ename": "NameError",
     "evalue": "name 'df_y' is not defined",
     "output_type": "error",
     "traceback": [
      "\u001b[0;31m---------------------------------------------------------------------------\u001b[0m",
      "\u001b[0;31mNameError\u001b[0m                                 Traceback (most recent call last)",
      "\u001b[0;32m<ipython-input-2-3777030e7401>\u001b[0m in \u001b[0;36m<module>\u001b[0;34m()\u001b[0m\n\u001b[0;32m----> 1\u001b[0;31m \u001b[0mdf\u001b[0m \u001b[0;34m=\u001b[0m \u001b[0mdf_y\u001b[0m\u001b[0;34m\u001b[0m\u001b[0m\n\u001b[0m\u001b[1;32m      2\u001b[0m \u001b[0mdf\u001b[0m\u001b[0;34m[\u001b[0m\u001b[0mdf\u001b[0m\u001b[0;34m.\u001b[0m\u001b[0mdate\u001b[0m\u001b[0;34m==\u001b[0m\u001b[0mnp\u001b[0m\u001b[0;34m.\u001b[0m\u001b[0msort\u001b[0m\u001b[0;34m(\u001b[0m\u001b[0mdf\u001b[0m\u001b[0;34m.\u001b[0m\u001b[0mdate\u001b[0m\u001b[0;34m)\u001b[0m\u001b[0;34m[\u001b[0m\u001b[0;34m-\u001b[0m\u001b[0;36m2\u001b[0m\u001b[0;34m]\u001b[0m\u001b[0;34m]\u001b[0m\u001b[0;34m.\u001b[0m\u001b[0mclose\u001b[0m\u001b[0;34m\u001b[0m\u001b[0m\n",
      "\u001b[0;31mNameError\u001b[0m: name 'df_y' is not defined"
     ]
    }
   ],
   "source": [
    "df = df_y\n",
    "df[df.date==np.sort(df.date)[-2]].close"
   ]
  },
  {
   "cell_type": "code",
   "execution_count": 149,
   "metadata": {
    "collapsed": false,
    "scrolled": true
   },
   "outputs": [],
   "source": [
    "STOCK300 = [line.rstrip() for line in open('hushen_300_.txt')]\n",
    "STOCK500 = [line.rstrip() for line in open('zhongzheng_500_.txt')]\n",
    "STOCK800 = STOCK300+STOCK500"
   ]
  },
  {
   "cell_type": "code",
   "execution_count": 38,
   "metadata": {
    "collapsed": false,
    "scrolled": true
   },
   "outputs": [],
   "source": [
    "df = pd.read_excel('000300closeweight.xls', 'sheet1', converters={'Constituent Code': str})\n",
    "df = df[['Constituent Code', 'Weight(%)']]\n",
    "df.to_csv('data/weight.txt', index=False)"
   ]
  },
  {
   "cell_type": "code",
   "execution_count": 853,
   "metadata": {
    "collapsed": true
   },
   "outputs": [],
   "source": [
    "STOCK_LIST = ['000166']"
   ]
  },
  {
   "cell_type": "code",
   "execution_count": 854,
   "metadata": {
    "collapsed": false,
    "scrolled": true
   },
   "outputs": [
    {
     "data": {
      "text/html": [
       "<div>\n",
       "<table border=\"1\" class=\"dataframe\">\n",
       "  <thead>\n",
       "    <tr style=\"text-align: right;\">\n",
       "      <th></th>\n",
       "      <th>交易所简称</th>\n",
       "      <th>股票代码</th>\n",
       "      <th>股票名称</th>\n",
       "      <th>时间</th>\n",
       "      <th>每股收益(元)</th>\n",
       "      <th>每股净资产(元)</th>\n",
       "      <th>净资产收益率(％)</th>\n",
       "      <th>净利润(万元)</th>\n",
       "      <th>净利润增长率(%)</th>\n",
       "      <th>加权净资产收益率(%)</th>\n",
       "      <th>...</th>\n",
       "      <th>基本每股收益(元)</th>\n",
       "      <th>每股收益-扣除(元)</th>\n",
       "      <th>每股收益-摊薄(元)</th>\n",
       "      <th>每股资本公积金(元)</th>\n",
       "      <th>每股未分配利润(元)</th>\n",
       "      <th>每股经营现金流量(元)</th>\n",
       "      <th>经营活动现金净流量增长率(%)</th>\n",
       "      <th>year</th>\n",
       "      <th>month</th>\n",
       "      <th>day</th>\n",
       "    </tr>\n",
       "  </thead>\n",
       "  <tbody>\n",
       "    <tr>\n",
       "      <th>0</th>\n",
       "      <td>SZ</td>\n",
       "      <td>000166</td>\n",
       "      <td>申万宏源</td>\n",
       "      <td>2016-03-31</td>\n",
       "      <td>0.07</td>\n",
       "      <td>3.3679</td>\n",
       "      <td>2.0919</td>\n",
       "      <td>106699.02</td>\n",
       "      <td>-47.851339</td>\n",
       "      <td>2.09</td>\n",
       "      <td>...</td>\n",
       "      <td>0.07</td>\n",
       "      <td>NaN</td>\n",
       "      <td>0.070453</td>\n",
       "      <td>0.299187</td>\n",
       "      <td>1.432424</td>\n",
       "      <td>-0.8479</td>\n",
       "      <td>-137.402563</td>\n",
       "      <td>2016</td>\n",
       "      <td>3</td>\n",
       "      <td>31</td>\n",
       "    </tr>\n",
       "    <tr>\n",
       "      <th>1</th>\n",
       "      <td>SZ</td>\n",
       "      <td>000166</td>\n",
       "      <td>申万宏源</td>\n",
       "      <td>2015-12-31</td>\n",
       "      <td>0.82</td>\n",
       "      <td>3.3812</td>\n",
       "      <td>24.1950</td>\n",
       "      <td>1242843.57</td>\n",
       "      <td>122.130466</td>\n",
       "      <td>27.41</td>\n",
       "      <td>...</td>\n",
       "      <td>0.82</td>\n",
       "      <td>0.82</td>\n",
       "      <td>0.818092</td>\n",
       "      <td>0.299187</td>\n",
       "      <td>1.362584</td>\n",
       "      <td>3.3967</td>\n",
       "      <td>33.031506</td>\n",
       "      <td>2015</td>\n",
       "      <td>12</td>\n",
       "      <td>31</td>\n",
       "    </tr>\n",
       "    <tr>\n",
       "      <th>2</th>\n",
       "      <td>SZ</td>\n",
       "      <td>000166</td>\n",
       "      <td>申万宏源</td>\n",
       "      <td>2015-09-30</td>\n",
       "      <td>0.57</td>\n",
       "      <td>3.1300</td>\n",
       "      <td>18.0768</td>\n",
       "      <td>863531.57</td>\n",
       "      <td>161.223090</td>\n",
       "      <td>19.96</td>\n",
       "      <td>...</td>\n",
       "      <td>0.57</td>\n",
       "      <td>NaN</td>\n",
       "      <td>0.565049</td>\n",
       "      <td>0.299784</td>\n",
       "      <td>1.340491</td>\n",
       "      <td>3.5700</td>\n",
       "      <td>159.232687</td>\n",
       "      <td>2015</td>\n",
       "      <td>9</td>\n",
       "      <td>30</td>\n",
       "    </tr>\n",
       "    <tr>\n",
       "      <th>3</th>\n",
       "      <td>SZ</td>\n",
       "      <td>000166</td>\n",
       "      <td>申万宏源</td>\n",
       "      <td>2015-06-30</td>\n",
       "      <td>0.50</td>\n",
       "      <td>3.1091</td>\n",
       "      <td>15.9255</td>\n",
       "      <td>751547.36</td>\n",
       "      <td>291.500273</td>\n",
       "      <td>17.38</td>\n",
       "      <td>...</td>\n",
       "      <td>0.50</td>\n",
       "      <td>0.50</td>\n",
       "      <td>0.495134</td>\n",
       "      <td>0.299784</td>\n",
       "      <td>1.209795</td>\n",
       "      <td>7.1279</td>\n",
       "      <td>1439.825875</td>\n",
       "      <td>2015</td>\n",
       "      <td>6</td>\n",
       "      <td>30</td>\n",
       "    </tr>\n",
       "    <tr>\n",
       "      <th>4</th>\n",
       "      <td>SZ</td>\n",
       "      <td>000166</td>\n",
       "      <td>申万宏源</td>\n",
       "      <td>2015-03-31</td>\n",
       "      <td>0.13</td>\n",
       "      <td>2.7718</td>\n",
       "      <td>6.2325</td>\n",
       "      <td>261685.69</td>\n",
       "      <td>147.481166</td>\n",
       "      <td>6.23</td>\n",
       "      <td>...</td>\n",
       "      <td>0.13</td>\n",
       "      <td>NaN</td>\n",
       "      <td>0.134333</td>\n",
       "      <td>0.528625</td>\n",
       "      <td>0.778346</td>\n",
       "      <td>2.2670</td>\n",
       "      <td>864.227637</td>\n",
       "      <td>2015</td>\n",
       "      <td>3</td>\n",
       "      <td>31</td>\n",
       "    </tr>\n",
       "    <tr>\n",
       "      <th>5</th>\n",
       "      <td>SZ</td>\n",
       "      <td>000166</td>\n",
       "      <td>申万宏源</td>\n",
       "      <td>2014-12-31</td>\n",
       "      <td>0.40</td>\n",
       "      <td>4.7186</td>\n",
       "      <td>14.7744</td>\n",
       "      <td>350443.42</td>\n",
       "      <td>190.079195</td>\n",
       "      <td>15.90</td>\n",
       "      <td>...</td>\n",
       "      <td>0.40</td>\n",
       "      <td>0.49</td>\n",
       "      <td>0.697148</td>\n",
       "      <td>0.893031</td>\n",
       "      <td>1.584844</td>\n",
       "      <td>5.6485</td>\n",
       "      <td>849.952619</td>\n",
       "      <td>2014</td>\n",
       "      <td>12</td>\n",
       "      <td>31</td>\n",
       "    </tr>\n",
       "    <tr>\n",
       "      <th>6</th>\n",
       "      <td>SZ</td>\n",
       "      <td>000166</td>\n",
       "      <td>申万宏源</td>\n",
       "      <td>2014-08-31</td>\n",
       "      <td>NaN</td>\n",
       "      <td>2.3600</td>\n",
       "      <td>7.6667</td>\n",
       "      <td>NaN</td>\n",
       "      <td>NaN</td>\n",
       "      <td>7.82</td>\n",
       "      <td>...</td>\n",
       "      <td>NaN</td>\n",
       "      <td>0.18</td>\n",
       "      <td>NaN</td>\n",
       "      <td>NaN</td>\n",
       "      <td>NaN</td>\n",
       "      <td>0.5000</td>\n",
       "      <td>NaN</td>\n",
       "      <td>2014</td>\n",
       "      <td>8</td>\n",
       "      <td>31</td>\n",
       "    </tr>\n",
       "    <tr>\n",
       "      <th>7</th>\n",
       "      <td>SZ</td>\n",
       "      <td>000166</td>\n",
       "      <td>申万宏源</td>\n",
       "      <td>2014-06-30</td>\n",
       "      <td>0.14</td>\n",
       "      <td>NaN</td>\n",
       "      <td>NaN</td>\n",
       "      <td>104119.83</td>\n",
       "      <td>153.375933</td>\n",
       "      <td>5.45</td>\n",
       "      <td>...</td>\n",
       "      <td>0.14</td>\n",
       "      <td>0.16</td>\n",
       "      <td>0.238504</td>\n",
       "      <td>0.030422</td>\n",
       "      <td>0.975629</td>\n",
       "      <td>1.0240</td>\n",
       "      <td>NaN</td>\n",
       "      <td>2014</td>\n",
       "      <td>6</td>\n",
       "      <td>30</td>\n",
       "    </tr>\n",
       "    <tr>\n",
       "      <th>8</th>\n",
       "      <td>SZ</td>\n",
       "      <td>000166</td>\n",
       "      <td>申万宏源</td>\n",
       "      <td>2013-12-31</td>\n",
       "      <td>0.28</td>\n",
       "      <td>2.7465</td>\n",
       "      <td>10.2122</td>\n",
       "      <td>192882.03</td>\n",
       "      <td>34.873860</td>\n",
       "      <td>10.56</td>\n",
       "      <td>...</td>\n",
       "      <td>0.28</td>\n",
       "      <td>NaN</td>\n",
       "      <td>0.280478</td>\n",
       "      <td>NaN</td>\n",
       "      <td>1.005490</td>\n",
       "      <td>-0.7532</td>\n",
       "      <td>-110.659184</td>\n",
       "      <td>2013</td>\n",
       "      <td>12</td>\n",
       "      <td>31</td>\n",
       "    </tr>\n",
       "  </tbody>\n",
       "</table>\n",
       "<p>9 rows × 22 columns</p>\n",
       "</div>"
      ],
      "text/plain": [
       "  交易所简称    股票代码  股票名称         时间  每股收益(元)  每股净资产(元)  净资产收益率(％)     净利润(万元)  \\\n",
       "0    SZ  000166  申万宏源 2016-03-31     0.07    3.3679     2.0919   106699.02   \n",
       "1    SZ  000166  申万宏源 2015-12-31     0.82    3.3812    24.1950  1242843.57   \n",
       "2    SZ  000166  申万宏源 2015-09-30     0.57    3.1300    18.0768   863531.57   \n",
       "3    SZ  000166  申万宏源 2015-06-30     0.50    3.1091    15.9255   751547.36   \n",
       "4    SZ  000166  申万宏源 2015-03-31     0.13    2.7718     6.2325   261685.69   \n",
       "5    SZ  000166  申万宏源 2014-12-31     0.40    4.7186    14.7744   350443.42   \n",
       "6    SZ  000166  申万宏源 2014-08-31      NaN    2.3600     7.6667         NaN   \n",
       "7    SZ  000166  申万宏源 2014-06-30     0.14       NaN        NaN   104119.83   \n",
       "8    SZ  000166  申万宏源 2013-12-31     0.28    2.7465    10.2122   192882.03   \n",
       "\n",
       "    净利润增长率(%)  加权净资产收益率(%) ...   基本每股收益(元)  每股收益-扣除(元)  每股收益-摊薄(元)  \\\n",
       "0  -47.851339         2.09 ...        0.07         NaN    0.070453   \n",
       "1  122.130466        27.41 ...        0.82        0.82    0.818092   \n",
       "2  161.223090        19.96 ...        0.57         NaN    0.565049   \n",
       "3  291.500273        17.38 ...        0.50        0.50    0.495134   \n",
       "4  147.481166         6.23 ...        0.13         NaN    0.134333   \n",
       "5  190.079195        15.90 ...        0.40        0.49    0.697148   \n",
       "6         NaN         7.82 ...         NaN        0.18         NaN   \n",
       "7  153.375933         5.45 ...        0.14        0.16    0.238504   \n",
       "8   34.873860        10.56 ...        0.28         NaN    0.280478   \n",
       "\n",
       "   每股资本公积金(元)  每股未分配利润(元)  每股经营现金流量(元)  经营活动现金净流量增长率(%)  year  month  day  \n",
       "0    0.299187    1.432424      -0.8479      -137.402563  2016      3   31  \n",
       "1    0.299187    1.362584       3.3967        33.031506  2015     12   31  \n",
       "2    0.299784    1.340491       3.5700       159.232687  2015      9   30  \n",
       "3    0.299784    1.209795       7.1279      1439.825875  2015      6   30  \n",
       "4    0.528625    0.778346       2.2670       864.227637  2015      3   31  \n",
       "5    0.893031    1.584844       5.6485       849.952619  2014     12   31  \n",
       "6         NaN         NaN       0.5000              NaN  2014      8   31  \n",
       "7    0.030422    0.975629       1.0240              NaN  2014      6   30  \n",
       "8         NaN    1.005490      -0.7532      -110.659184  2013     12   31  \n",
       "\n",
       "[9 rows x 22 columns]"
      ]
     },
     "execution_count": 854,
     "metadata": {},
     "output_type": "execute_result"
    }
   ],
   "source": [
    "df_finance = pd.read_csv('/home/lcc/sensequant/kline_5minute/stock_finance.txt', dtype={p_stock_id_: str})\n",
    "df_finance = df_finance.drop('每股净资产(元).1', 1)\n",
    "df_finance = df_finance[df_finance[p_stock_id_].isin(STOCK_LIST)].reset_index(drop=True)\n",
    "df_finance[p_date_] = pd.to_datetime(df_finance[p_date_])\n",
    "df_finance['year'] = df_finance[p_date_].apply(lambda time: time.year)\n",
    "df_finance['month'] = df_finance[p_date_].apply(lambda time: time.month)\n",
    "df_finance['day'] = df_finance[p_date_].apply(lambda time: time.day)\n",
    "df_finance"
   ]
  },
  {
   "cell_type": "code",
   "execution_count": 60,
   "metadata": {
    "collapsed": true
   },
   "outputs": [],
   "source": [
    "def select_val_b4_date(df, date, dateCol, valCol):\n",
    "    # default: the column of the date in the df is dateCol\n",
    "    lb = np.max(df[df[dateCol]<date][dateCol])\n",
    "    return df[df[dateCol]==lb][valCol].values"
   ]
  },
  {
   "cell_type": "code",
   "execution_count": 855,
   "metadata": {
    "collapsed": false,
    "scrolled": true
   },
   "outputs": [],
   "source": [
    "df_share = pd.read_csv('/home/lcc/sensequant/kline_5minute/stock_share.txt', dtype={p_stock_id_: str})\n",
    "df_share = df_share[df_share[p_stock_id_].isin(STOCK_LIST)]\n",
    "df_share[p_date_] = pd.to_datetime(df_share[p_date_])\n"
   ]
  },
  {
   "cell_type": "code",
   "execution_count": 104,
   "metadata": {
    "collapsed": true
   },
   "outputs": [],
   "source": [
    "from common import scalify"
   ]
  },
  {
   "cell_type": "code",
   "execution_count": 487,
   "metadata": {
    "collapsed": true
   },
   "outputs": [],
   "source": [
    "# %load indicators.py\n",
    "import pandas as pd \n",
    "import numpy as np \n",
    "from common import scalify, lower_bound, select_val_b4_date, record_error_msge\n",
    "from tempfile import TemporaryFile\n",
    "import matplotlib.pyplot as plt\n",
    "\n",
    "p_exchange_ = '交易所简称'\n",
    "p_stock_id_ = '股票代码'\n",
    "p_date_ = '时间'\n",
    "p_earn_per_share_ = '每股收益(元)'\n",
    "p_bvps_ = '每股净资产(元)'\n",
    "p_roe_ = '净资产收益率(％)'\n",
    "p_net_profit_ = '净利润(万元)'\n",
    "p_npgr_ = '净利润增长率(%)'\n",
    "p_wroe_ = '加权净资产收益率(%)'\n",
    "p_asset_liability_ratio_ = '资产负债比率(%)'\n",
    "p_cash_in_net_profit_ = '净利润现金含量(%)'\n",
    "p_basic_earn_per_share_ = '基本每股收益(元)'\n",
    "p_net_earn_per_share_ = '每股收益-扣除(元)'\n",
    "p_dulute_earn_per_share_ = '每股收益-摊薄(元)'\n",
    "p_capital_reserve_per_share_ = '每股资本公积金(元)'\n",
    "p_udpps_ = '每股未分配利润(元)'\n",
    "p_epcf_ = '每股经营现金流量(元)'\n",
    "p_operating_net_cash_flow_ = '经营活动现金净流量增长率(%)'\n",
    "p_equity_ = '总股本(亿股)'\n",
    "p_limit_equity_ = '限售股份(亿股)'\n",
    "p_a_share_ = '流通A股(亿股)'\n",
    "\n",
    "class INDICATOR():\n",
    "    def __init__(self, df_y, df_finance, df_share):\n",
    "        self.M = 9\n",
    "        self.N = 5\n",
    "        self.U = 26\n",
    "        self.df_y = df_y\n",
    "        self.df_finance = df_finance\n",
    "        self.df_share = df_share\n",
    "        self.df_finance['average_asset_ratio_in_last_one_year'] = df_finance.apply(lambda row: np.average(df_finance.loc[row.name:row.name+4, p_asset_liability_ratio_].values), axis=1)\n",
    "        self.df_finance['average_cash_ratio_in_last_one_year'] = df_finance.apply(lambda row: np.average(df_finance.loc[row.name:row.name+4, p_epcf_].values), axis=1)\n",
    "        self.df_finance['eps_in_past_one_year'] = self.df_finance.apply(lambda row: self._get_eps_in_one_year(self.df_finance[row.name:row.name+5]), 1)\n",
    "        self.id_ = scalify(self.df_y.stock_id.unique())\n",
    "\n",
    "    def _slope_N_day(self, c0, cN, N):\n",
    "        return ((c0 - cN) / cN) / N\n",
    "\n",
    "    def _percentile_N_day(self, c0, H, L):\n",
    "        return (c0 - L) / (H - L)\n",
    "\n",
    "    def _ema(self, c_array):\n",
    "        day = len(c_array)\n",
    "        mul = 2 / (day + 1)\n",
    "        if day == 1:\n",
    "            return c_array.index[0]\n",
    "        else:\n",
    "            return (c_array.index[-1] - ema(c_array[:-1])) * mul + ema(c_array[:-1])\n",
    "\n",
    "    def _price_oscillator(self, c_array, M=9, N=12):\n",
    "        if M > len(c_array) or N > len(c_array):\n",
    "            raise ValueError('M or N is bigger than the number of days')\n",
    "        return (ema(c_array[-M:]) - ema(c_array[-N:])) / ema(c_array[-N:])\n",
    "\n",
    "    def _recur_diff(self, array, result_array=None):\n",
    "        l = len(array)\n",
    "        if l > 1:\n",
    "            diff = (array[0] - array[1]) / array[0]\n",
    "            if result_array is None:\n",
    "                result_array = np.array([diff])\n",
    "            else:\n",
    "                result_array = np.append(result_array, diff)\n",
    "            return recur_diff(array[1:], result_array)\n",
    "        else:\n",
    "            return result_array\n",
    "\n",
    "    def _volume_N_day(self, V, C):\n",
    "        return np.sum(V * recur_diff(C)) \n",
    "\n",
    "    def _return_N_day(self, c0, cN):\n",
    "        return (c0 - cN) / cN\n",
    "\n",
    "    def _cal_ema(self, df, M):\n",
    "        df = df.reset_index(drop=True)\n",
    "        mul = 2 / (M + 1)\n",
    "        ema = np.full(len(df), -np.inf)\n",
    "        ema[0] = df.loc[0, 'close'] * mul\n",
    "        for index in range(1, len(ema)):\n",
    "            ema[index] = (df.loc[index, 'close'] - ema[index-1]) * mul + ema[index-1]\n",
    "        return ema\n",
    "\n",
    "    def construct_slope_N_day(self):\n",
    "        return self.df_y.loc[self.N:].apply(lambda row: self._slope_N_day(row['close'], self.df_y.loc[row.name-self.N,'close'], self.N), axis=1)\n",
    "\n",
    "    def construct_percentile_N_day(self):\n",
    "        return self.df_y.loc[self.N:].apply(lambda row: self._percentile_N_day(row['close'],\\\n",
    "                                                        self.df_y.loc[row.name-self.N:row.name+1, 'high'].max(),\\\n",
    "                                                        self.df_y.loc[row.name-self.N:row.name+1, 'low'].min()\\\n",
    "                                            ), axis=1)\n",
    "\n",
    "    def construct_return_N_day(self):\n",
    "        return self.df_y.loc[self.N:].apply(lambda row: self._return_N_day(row.close, self.df_y.loc[row.name-self.N, 'close']), axis=1) \n",
    "\n",
    "    def construct_ema(self):\n",
    "        emaM = self._cal_ema(self.df_y[self.N:], self.M)\n",
    "        emaU = self._cal_ema(self.df_y[self.N:], self.U)\n",
    "        print ('emaM: {0}; emaU: {1}'.format(np.shape(emaM), np.shape(emaU)))\n",
    "        return (emaM - emaU) / emaU\n",
    "\n",
    "    def pe_ratio(self):\n",
    "        return self.df_y[self.N:].apply(lambda row: \\\n",
    "                                            scalify(\\\n",
    "                                                    select_val_b4_date(self.df_finance, row.date, p_date_, 'eps_in_past_one_year')/\\\n",
    "                                                    row.close\\\n",
    "                                                    ), axis=1)\n",
    "    \n",
    "    def relative_pe_ratio(pe, avepe):\n",
    "        return pe / avepe\n",
    "    \n",
    "    def pb_ratio(self):\n",
    "        return self.df_y[self.N:].apply(lambda row:  row.close/\\\n",
    "                                                     scalify(\\\n",
    "                                                           self.df_finance[\\\n",
    "                                                           (self.df_finance[p_date_]==lower_bound(self.df_finance, row.date, p_date_))\\\n",
    "                                                           &(~self.df_finance[p_bvps_].isnull())][p_bvps_].values\\\n",
    "                                                            )\n",
    "\n",
    "                                        , axis=1)\n",
    "    \n",
    "    def relative_pb_ratio(pb, avepb):\n",
    "        return pb / avepb\n",
    "    \n",
    "    def current_cashflow_ratio(self):\n",
    "        return self.df_y[self.N:].apply(lambda row: scalify(row.close / select_val_b4_date(self.df_finance, row.date, p_date_, p_epcf_)), axis=1)\n",
    "    \n",
    "    def average_cashflow_ratio(self):\n",
    "        return self.df_y[self.N:].apply(lambda row: scalify(row.close / select_val_b4_date(self.df_finance, row.date, p_date_, 'average_cash_ratio_in_last_one_year')), axis=1)\n",
    "    \n",
    "    def current_debt_ratio(self):\n",
    "        return self.df_y[self.N:].apply(lambda row: scalify(select_val_b4_date(self.df_finance, row.date, p_date_, p_asset_liability_ratio_)), axis=1)\n",
    "\n",
    "    def average_debt_ratio(self):\n",
    "        return self.df_y[self.N:].apply(lambda row: scalify(select_val_b4_date(self.df_finance, row.date, p_date_, 'average_asset_ratio_in_last_one_year')), axis=1)\n",
    "    \n",
    "    def market_capitalization(self):\n",
    "        return self.df_y[self.N:].apply(lambda row: scalify(row.close * select_val_b4_date(self.df_share, row.date, p_date_, p_equity_)), axis=1)\n",
    "    \n",
    "    def circulate_stock_value(self):\n",
    "        return self.df_y[self.N:].apply(lambda row: scalify(row.close * select_val_b4_date(self.df_share, row.date, p_date_, p_a_share_)), axis=1)\n",
    "\n",
    "    def _eps_within_one_certain_year(self, arr):\n",
    "        if len(arr) == 1:\n",
    "            return arr\n",
    "        elif len(arr) > 4:\n",
    "            raise ValueError('Impossible that more than 4 rows in one year!')\n",
    "        else:\n",
    "            return arr[0] - arr[-1] \n",
    "\n",
    "    def _get_eps_in_one_year(self, df):\n",
    "        df = df.reset_index(drop=True)\n",
    "        if len(df) > 5:\n",
    "            raise ValueError('Plese take the first five rows as input bitch')\n",
    "        bLastYear = self._eps_within_one_certain_year(\\\n",
    "                                        df[df.year==np.min(df.year.values)][p_earn_per_share_].values)\n",
    "        bThisYear = df[df.year==np.max(df.year.values)].loc[0, p_earn_per_share_]\n",
    "        return scalify(bLastYear+bThisYear)\n",
    "\n",
    "    def save_img(self, arr, fname, folder='graph/'):\n",
    "        fig,ax = plt.subplots()  #create a new figure\n",
    "        ax.plot(arr)\n",
    "        fig.savefig(folder+fname)\n",
    "\n",
    "    def implement_indicator(self):\n",
    "        slopeNday = self.construct_slope_N_day()\n",
    "        percentileNday = self.construct_percentile_N_day()\n",
    "        returnNday = self.construct_return_N_day()\n",
    "        #self.save_img(returnNday, self.id_+'_'+'returnNday.png')\n",
    "        ema = self.construct_ema()\n",
    "        pe = self.pe_ratio()\n",
    "        self.save_img(pe, self.id_+'_'+'pe.png')\n",
    "        pb = self.pb_ratio()\n",
    "#        self.save_img(pb, self.id_+'_'+'pb.png') \n",
    "        currCashRat = self.current_cashflow_ratio()\n",
    "#        self.save_img(currCashRat, self.id_+'_'+'currCashRat.png')        \n",
    "        aveCashRat =  self.average_cashflow_ratio()\n",
    "        currDebtRat = self.current_debt_ratio()\n",
    "        aveDebtRat =  self.average_debt_ratio()\n",
    "        marketVal = self.market_capitalization()\n",
    "        #self.save_img(marketVal, self.id_+'_'+'marketval.png')\n",
    "        circuMarketVal = self.circulate_stock_value()\n",
    "        #self.save_img(circuMarketVal, self.id_+'_'+'circulmarketval.png')\n",
    "        return np.vstack((slopeNday, \n",
    "                          percentileNday, \n",
    "                          returnNday, \n",
    "                          ema, \n",
    "                          pe, \n",
    "                          pb, \n",
    "                          currCashRat, \n",
    "                          aveCashRat, \n",
    "                          currDebtRat, \n",
    "                          aveDebtRat, \n",
    "                          marketVal, \n",
    "                          circuMarketVal))\n",
    "    \n",
    "    def _tomorrow_trend(self, close1, close2, threshold=0):\n",
    "        # close1: tomorrow\n",
    "        # close2: today\n",
    "        trend = (close1 - close2) / close2\n",
    "        if trend > threshold:\n",
    "            return 2\n",
    "        elif -threshold < trend < threshold:\n",
    "            return 1\n",
    "        else:\n",
    "            return 0\n",
    "            \n",
    "    def _get_trend(self):\n",
    "        return self.df_y[self.N:-1].apply(lambda row: self._tomorrow_trend(self.df_y.loc[row.name+1, 'close'], row.close), axis=1).values\n",
    "\n",
    "    def save_indicators(self):\n",
    "        # shape(output) should be num_data * (num_ind + 1)\n",
    "\n",
    "        indicators = self.implement_indicator()\n",
    "        \n",
    "        # filter the null val       \n",
    "        indicators = indicators[:, :-1]\n",
    "        #if np.isnan(indicators).any():\n",
    "        #    record_error_msge(self.id_, 'has null val')\n",
    "        #    return False\n",
    "\n",
    "        trend = self._get_trend()\n",
    "        trend = trend.reshape(len(trend), 1)\n",
    "        return indicators\n"
   ]
  },
  {
   "cell_type": "code",
   "execution_count": 856,
   "metadata": {
    "collapsed": true
   },
   "outputs": [],
   "source": [
    "df_y = fast_read_tech()"
   ]
  },
  {
   "cell_type": "code",
   "execution_count": 864,
   "metadata": {
    "collapsed": true
   },
   "outputs": [],
   "source": [
    "df_y.to_hdf('store.h5', 'table2', append = True)"
   ]
  },
  {
   "cell_type": "code",
   "execution_count": 863,
   "metadata": {
    "collapsed": false,
    "scrolled": true
   },
   "outputs": [
    {
     "data": {
      "text/plain": [
       "pandas.core.frame.DataFrame"
      ]
     },
     "execution_count": 863,
     "metadata": {},
     "output_type": "execute_result"
    }
   ],
   "source": [
    "type(pd.read_hdf('store.h5', 'table'))"
   ]
  },
  {
   "cell_type": "code",
   "execution_count": 857,
   "metadata": {
    "collapsed": false
   },
   "outputs": [],
   "source": [
    "ind = INDICATOR(df_y, df_finance, df_share)"
   ]
  },
  {
   "cell_type": "code",
   "execution_count": 858,
   "metadata": {
    "collapsed": false,
    "scrolled": true
   },
   "outputs": [
    {
     "name": "stdout",
     "output_type": "stream",
     "text": [
      "emaM: (241,); emaU: (241,)\n"
     ]
    },
    {
     "data": {
      "image/png": "[encoded data removed]",
      "text/plain": [
       "<matplotlib.figure.Figure at 0x7ff0ff0f5198>"
      ]
     },
     "metadata": {},
     "output_type": "display_data"
    }
   ],
   "source": [
    "a = ind.save_indicators()"
   ]
  },
  {
   "cell_type": "code",
   "execution_count": 859,
   "metadata": {
    "collapsed": false
   },
   "outputs": [
    {
     "name": "stdout",
     "output_type": "stream",
     "text": [
      "0 [False]\n",
      "1 [False]\n",
      "2 [False]\n",
      "3 [False]\n",
      "4 [False  True]\n",
      "5 [False]\n",
      "6 [False]\n",
      "7 [False]\n",
      "8 [False]\n",
      "9 [False  True]\n",
      "10 [False]\n",
      "11 [False]\n"
     ]
    }
   ],
   "source": [
    "for i in range(12):\n",
    "    print (str(i), np.unique(np.isnan(a[i])))"
   ]
  },
  {
   "cell_type": "code",
   "execution_count": 522,
   "metadata": {
    "collapsed": true
   },
   "outputs": [],
   "source": [
    "# %load common.py\n",
    "import numpy as np\n",
    "import pandas as pd \n",
    "\n",
    "p_exchange_ = '交易所简称'\n",
    "p_stock_id_ = '股票代码'\n",
    "p_date_ = '时间'\n",
    "p_earn_per_share_ = '每股收益(元)'\n",
    "p_bvps_ = '每股净资产(元)'\n",
    "p_roe_ = '净资产收益率(％)'\n",
    "p_net_profit_ = '净利润(万元)'\n",
    "p_npgr_ = '净利润增长率(%)'\n",
    "p_wroe_ = '加权净资产收益率(%)'\n",
    "p_asset_liability_ratio_ = '资产负债比率(%)'\n",
    "p_cash_in_net_profit_ = '净利润现金含量(%)'\n",
    "p_basic_earn_per_share_ = '基本每股收益(元)'\n",
    "p_net_earn_per_share_ = '每股收益-扣除(元)'\n",
    "p_dulute_earn_per_share_ = '每股收益-摊薄(元)'\n",
    "p_capital_reserve_per_share_ = '每股资本公积金(元)'\n",
    "p_udpps_ = '每股未分配利润(元)'\n",
    "p_epcf_ = '每股经营现金流量(元)'\n",
    "p_operating_net_cash_flow_ = '经营活动现金净流量增长率(%)'\n",
    "p_equity_ = '总股本(亿股)'\n",
    "p_limit_equity_ = '限售股份(亿股)'\n",
    "p_a_share_ = '流通A股(亿股)'\n",
    "\n",
    "def scalify(l):\n",
    "    if type(l) != np.ndarray:\n",
    "        return l\n",
    "    elif len(l) > 1:\n",
    "        raise ValueError('Not only one element!')  \n",
    "    else:\n",
    "        return l[0]\n",
    "\n",
    "def lower_bound(df, date, dateCol):\n",
    "    return np.max(df[df[dateCol]<date][dateCol])\n",
    "\n",
    "def select_val_b4_date(df, date, dateCol, valCol):\n",
    "    # default: the column of the date in the df is dateCol\n",
    "    lb = np.max(df[df[dateCol]<=date][dateCol])\n",
    "    return df[df[dateCol]==lb][valCol].values\n",
    "    \n",
    "def record_error_msge(id_, msge, fname='cache/errorLog.txt'):\n",
    "    with open(fname, 'a') as f:\n",
    "        f.write(id_+'\\t'+msge+'\\n')\n",
    "\n",
    "def normalize_dict(dict_):\n",
    "    sum_ = sum(list(dict_.values()))\n",
    "    for k, v in dict_.items():\n",
    "        dict_[k] = v / sum_\n",
    "    return dict_"
   ]
  },
  {
   "cell_type": "code",
   "execution_count": 573,
   "metadata": {
    "collapsed": false
   },
   "outputs": [],
   "source": [
    "def construct_percentile_N_day(df_y, N):\n",
    "    return df_y.loc[N:].apply(lambda row: percentile_N_day(row['close'],\\\n",
    "                                                    df_y.loc[row.name-N:row.name+1, 'high'].max(),\\\n",
    "                                                    df_y.loc[row.name-N:row.name+1, 'low'].min()\\\n",
    "                                        ), axis=1)\n",
    "def percentile_N_day(c0, H, L):\n",
    "    return (c0 - L) / (H - L)"
   ]
  },
  {
   "cell_type": "code",
   "execution_count": 762,
   "metadata": {
    "collapsed": false,
    "scrolled": true
   },
   "outputs": [
    {
     "data": {
      "text/plain": [
       "233   NaN\n",
       "234   NaN\n",
       "235   NaN\n",
       "236   NaN\n",
       "dtype: float64"
      ]
     },
     "execution_count": 762,
     "metadata": {},
     "output_type": "execute_result"
    }
   ],
   "source": [
    "re = construct_percentile_N_day(df_y, 5)\n",
    "re[np.isnan(re)]"
   ]
  },
  {
   "cell_type": "code",
   "execution_count": 720,
   "metadata": {
    "collapsed": false,
    "scrolled": true
   },
   "outputs": [
    {
     "data": {
      "text/html": [
       "<div>\n",
       "<table border=\"1\" class=\"dataframe\">\n",
       "  <thead>\n",
       "    <tr style=\"text-align: right;\">\n",
       "      <th></th>\n",
       "      <th>stock_id</th>\n",
       "      <th>date</th>\n",
       "      <th>high</th>\n",
       "      <th>low</th>\n",
       "      <th>open</th>\n",
       "      <th>close</th>\n",
       "    </tr>\n",
       "  </thead>\n",
       "  <tbody>\n",
       "    <tr>\n",
       "      <th>209</th>\n",
       "      <td>601992</td>\n",
       "      <td>2016-04-11</td>\n",
       "      <td>9.109</td>\n",
       "      <td>9.109</td>\n",
       "      <td>9.109</td>\n",
       "      <td>9.109</td>\n",
       "    </tr>\n",
       "    <tr>\n",
       "      <th>210</th>\n",
       "      <td>601992</td>\n",
       "      <td>2016-04-12</td>\n",
       "      <td>9.109</td>\n",
       "      <td>9.109</td>\n",
       "      <td>9.109</td>\n",
       "      <td>9.109</td>\n",
       "    </tr>\n",
       "    <tr>\n",
       "      <th>211</th>\n",
       "      <td>601992</td>\n",
       "      <td>2016-04-13</td>\n",
       "      <td>9.109</td>\n",
       "      <td>9.109</td>\n",
       "      <td>9.109</td>\n",
       "      <td>9.109</td>\n",
       "    </tr>\n",
       "    <tr>\n",
       "      <th>212</th>\n",
       "      <td>601992</td>\n",
       "      <td>2016-04-14</td>\n",
       "      <td>9.109</td>\n",
       "      <td>9.109</td>\n",
       "      <td>9.109</td>\n",
       "      <td>9.109</td>\n",
       "    </tr>\n",
       "    <tr>\n",
       "      <th>213</th>\n",
       "      <td>601992</td>\n",
       "      <td>2016-04-15</td>\n",
       "      <td>9.109</td>\n",
       "      <td>9.109</td>\n",
       "      <td>9.109</td>\n",
       "      <td>9.109</td>\n",
       "    </tr>\n",
       "    <tr>\n",
       "      <th>214</th>\n",
       "      <td>601992</td>\n",
       "      <td>2016-04-18</td>\n",
       "      <td>9.979</td>\n",
       "      <td>9.300</td>\n",
       "      <td>9.770</td>\n",
       "      <td>9.369</td>\n",
       "    </tr>\n",
       "  </tbody>\n",
       "</table>\n",
       "</div>"
      ],
      "text/plain": [
       "    stock_id       date   high    low   open  close\n",
       "209   601992 2016-04-11  9.109  9.109  9.109  9.109\n",
       "210   601992 2016-04-12  9.109  9.109  9.109  9.109\n",
       "211   601992 2016-04-13  9.109  9.109  9.109  9.109\n",
       "212   601992 2016-04-14  9.109  9.109  9.109  9.109\n",
       "213   601992 2016-04-15  9.109  9.109  9.109  9.109\n",
       "214   601992 2016-04-18  9.979  9.300  9.770  9.369"
      ]
     },
     "execution_count": 720,
     "metadata": {},
     "output_type": "execute_result"
    }
   ],
   "source": [
    "df_y[209: 215]"
   ]
  },
  {
   "cell_type": "code",
   "execution_count": 644,
   "metadata": {
    "collapsed": false
   },
   "outputs": [],
   "source": [
    "df_tech = pd.read_csv('../kline_5minute/alldata/603885.txt', dtype={'stock_id': str})\n",
    "df_tech.date = pd.to_datetime(df_tech.date, format='%Y%m%d')"
   ]
  },
  {
   "cell_type": "code",
   "execution_count": 378,
   "metadata": {
    "collapsed": true
   },
   "outputs": [],
   "source": [
    "N = 5\n",
    "M = 9\n",
    "U = 26"
   ]
  },
  {
   "cell_type": "code",
   "execution_count": 16,
   "metadata": {
    "collapsed": false
   },
   "outputs": [],
   "source": [
    "#df_y.loc[N:, 'x_1']\n",
    "x_1 = df_y.loc[N:].apply(lambda row: slope_N_day(row['close'], df_y.loc[row.name-N,'close'], N), axis=1)\n",
    "\n",
    "#df_y.loc[N:, 'x_2'] \n",
    "x_2 = df_y.loc[N:].apply(lambda row: percentile_N_day(row['close'],\\\n",
    "                                                      df_y.loc[row.name-N:row.name+1, 'high'].max(),\\\n",
    "                                                      df_y.loc[row.name-N:row.name+1, 'low'].min()\\\n",
    "                                                      ), axis=1)\n",
    "x_4 = df_y.loc[N:].apply(lambda row: return_N_day(row.close, df_y.loc[row.name-N, 'close']), axis=1)"
   ]
  },
  {
   "cell_type": "code",
   "execution_count": 26,
   "metadata": {
    "collapsed": false
   },
   "outputs": [],
   "source": [
    "def cal_ema(df, M):\n",
    "    mul = 2 / (M + 1)\n",
    "    ema = np.full((len(df), 1), -np.inf)\n",
    "    ema[0] = df.loc[0, 'close'] * mul\n",
    "    for index in range(1, len(ema)):\n",
    "        ema[index] = (df.loc[index, 'close'] - ema[index-1]) * mul \\\n",
    "                                  + ema[index-1]\n",
    "    return ema\n",
    "\n",
    "ema_M = cal_ema(df_y, M)\n",
    "ema_U = cal_ema(df_y, U)\n",
    "#x_3 = (ema_M - ema_U) / ema_U"
   ]
  },
  {
   "cell_type": "code",
   "execution_count": 278,
   "metadata": {
    "collapsed": false
   },
   "outputs": [
    {
     "data": {
      "text/plain": [
       "array([[3, 2, 3],\n",
       "       [1, 5, 6]])"
      ]
     },
     "execution_count": 278,
     "metadata": {},
     "output_type": "execute_result"
    }
   ],
   "source": [
    "a = np.array([3,2,3])\n",
    "b = np.array([1,5,6])\n",
    "np.vstack((a, b))"
   ]
  },
  {
   "cell_type": "code",
   "execution_count": 32,
   "metadata": {
    "collapsed": false
   },
   "outputs": [
    {
     "data": {
      "text/plain": [
       "[<matplotlib.lines.Line2D at 0x7fa897cbcf28>]"
      ]
     },
     "execution_count": 32,
     "metadata": {},
     "output_type": "execute_result"
    },
    {
     "data": {
      "image/png": "[encoded data removed]",
      "text/plain": [
       "<matplotlib.figure.Figure at 0x7fa897fb80b8>"
      ]
     },
     "metadata": {},
     "output_type": "display_data"
    }
   ],
   "source": [
    "%matplotlib inline\n",
    "plt.plot(df_y.ppo)"
   ]
  },
  {
   "cell_type": "code",
   "execution_count": 14,
   "metadata": {
    "collapsed": false,
    "scrolled": true
   },
   "outputs": [],
   "source": [
    "# fake data\n",
    "n = len(df_y[df_y.close>14.3])\n",
    "m = len(df_y[df_y.close<=14.3])\n",
    "msk = df_y.close>14.3\n",
    "df_y.loc[msk, 'down'] = np.random.uniform(0.3,1,[n])\n",
    "df_y.loc[msk, 'up'] = 0\n",
    "df_y.loc[~msk, 'down'] = 0\n",
    "df_y.loc[~msk, 'up'] = np.random.uniform(0.3,1,[m])"
   ]
  },
  {
   "cell_type": "code",
   "execution_count": 265,
   "metadata": {
    "collapsed": false
   },
   "outputs": [
    {
     "data": {
      "text/plain": [
       "40"
      ]
     },
     "execution_count": 265,
     "metadata": {},
     "output_type": "execute_result"
    }
   ],
   "source": [
    "a = np.array([1,2,3,4])\n",
    "b = np.array([2,3,4,5])\n",
    "a @ b"
   ]
  },
  {
   "cell_type": "code",
   "execution_count": 282,
   "metadata": {
    "collapsed": false,
    "scrolled": true
   },
   "outputs": [],
   "source": [
    "def read_weight(fname='data/weight.txt'):\n",
    "    wdict = {}\n",
    "    with open(fname) as f:\n",
    "        for line in f:\n",
    "            line = line.rstrip()\n",
    "            wdict[line.split(',')[0]] = float(line.split(',')[1])\n",
    "    return wdict "
   ]
  },
  {
   "cell_type": "code",
   "execution_count": 306,
   "metadata": {
    "collapsed": false
   },
   "outputs": [],
   "source": [
    "def get_init_share(shareDict):\n",
    "    min_ = min(list(shareDict.values()))\n",
    "    for k, v in shareDict.items():\n",
    "        shareDict[k] = v * 100 / min_\n",
    "    return shareDict"
   ]
  },
  {
   "cell_type": "code",
   "execution_count": null,
   "metadata": {
    "collapsed": true
   },
   "outputs": [],
   "source": []
  },
  {
   "cell_type": "code",
   "execution_count": null,
   "metadata": {
    "collapsed": true
   },
   "outputs": [],
   "source": []
  },
  {
   "cell_type": "code",
   "execution_count": null,
   "metadata": {
    "collapsed": true
   },
   "outputs": [],
   "source": []
  },
  {
   "cell_type": "markdown",
   "metadata": {},
   "source": [
    "# backtest"
   ]
  },
  {
   "cell_type": "code",
   "execution_count": 68,
   "metadata": {
    "collapsed": false
   },
   "outputs": [],
   "source": [
    "X = np.vstack((x_1, x_2, x_4)).T\n",
    "X = X[:-1]"
   ]
  },
  {
   "cell_type": "code",
   "execution_count": null,
   "metadata": {
    "collapsed": false
   },
   "outputs": [],
   "source": [
    "# %load common.py\n",
    "def scalify(l):\n",
    "    if len(l) > 1:\n",
    "        raise ValueError('Not only one element!')  \n",
    "    else:\n",
    "        return l[0]\n",
    "\n"
   ]
  }
 ],
 "metadata": {
  "kernelspec": {
   "display_name": "Python 3",
   "language": "python",
   "name": "python3"
  },
  "language_info": {
   "codemirror_mode": {
    "name": "ipython",
    "version": 3
   },
   "file_extension": ".py",
   "mimetype": "text/x-python",
   "name": "python",
   "nbconvert_exporter": "python",
   "pygments_lexer": "ipython3",
   "version": "3.5.2"
  }
 },
 "nbformat": 4,
 "nbformat_minor": 0
}
